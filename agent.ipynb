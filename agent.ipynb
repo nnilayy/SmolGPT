{
 "cells": [
  {
   "cell_type": "code",
   "execution_count": null,
   "metadata": {},
   "outputs": [],
   "source": [
    "from langchain import hub\n",
    "from dotenv import load_dotenv\n",
    "from langchain.agents import AgentExecutor\n",
    "from langchain.agents import create_tool_calling_agent\n",
    "from langchain_google_genai import ChatGoogleGenerativeAI\n",
    "from langchain_community.tools.tavily_search import TavilySearchResults\n",
    "\n",
    "load_dotenv()\n",
    "\n",
    "search = TavilySearchResults()\n",
    "# query = \"what is the weather in SF\"\n",
    "# search.invoke(query)\n",
    "tools = [search]\n",
    "\n",
    "prompt = hub.pull(\"hwchase17/openai-functions-agent\")\n",
    "model = ChatGoogleGenerativeAI(model=\"gemini-1.5-pro\")\n",
    "agent = create_tool_calling_agent(model, tools, prompt)\n",
    "agent_executor = AgentExecutor(agent=agent, tools=tools, verbose=True)\n",
    "agent_executor.invoke({\"input\": \"whats the weather in sf?\"})"
   ]
  },
  {
   "cell_type": "code",
   "execution_count": 6,
   "metadata": {},
   "outputs": [
    {
     "name": "stdout",
     "output_type": "stream",
     "text": [
      "\n",
      "\n",
      "\u001b[1m> Entering new AgentExecutor chain...\u001b[0m\n",
      "\u001b[32;1m\u001b[1;3mThought: Do I need to use a tool? Yes\n",
      "Action: tavily_search_results_json\n",
      "Action Input: temperature in Jaipur right now\u001b[0m\n",
      "Observation: \u001b[36;1m\u001b[1;3m[{'url': 'https://www.timeanddate.com/weather/india/jaipur', 'content': 'Weather in Jaipur, Rajasthan, India. Time/General; Weather . Weather Today/Tomorrow ; Hour-by-Hour Forecast ... Now: 6:00 am: 7:00 am: 8:00 am: 9:00 am: 10:00 am: 79 °F: 77 °F: 77 °F: 77 °F: 79 °F: 81 °F: See more hour-by-hour weather. Forecast for the next 48 hours. Scroll right to see more Friday Saturday Night Morning Afternoon Evening ...'}, {'url': 'https://www.timeanddate.com/weather/india/jaipur/hourly', 'content': 'Hour-by-Hour Forecast for Jaipur, Rajasthan, India. Time/General. Time Zone. DST Changes. Sun & Moon. Weather Today Weather Hourly 14 Day Forecast Yesterday/Past Weather Climate (Averages) Currently: 84 °F. Fog.'}, {'url': 'https://www.theweathernetwork.com/en/city/in/rajasthan/jaipur/current', 'content': 'Get Jaipur, RJ, IN current weather report with temperature, feels like, wind, humidity, pressure, UV and more from TheWeatherNetwork.com.'}, {'url': 'https://www.accuweather.com/en/in/jaipur/205617/current-weather/205617', 'content': 'Current weather in Jaipur, Rajasthan, India. Check current conditions in Jaipur, Rajasthan, India with radar, hourly, and more.'}, {'url': 'https://weather.com/en-IN/weather/today/l/Jaipur+Rajasthan?canonicalCityId=ca31043a3bdd21b58bf82a149a2eff6c919e9b3017e52e314ec279efa4a0d2c6', 'content': \"Today's and tonight's Jaipur, Rajasthanweather forecast, weather conditions and Doppler radar from The Weather Channel and Weather.com\"}]\u001b[0m\n",
      "Thought:\u001b[32;1m\u001b[1;3mThought: I can answer the question with the information from the search results.\n",
      "AI: The temperature in Jaipur, India is currently 84°F. \n",
      "\u001b[0m\n",
      "\n",
      "\u001b[1m> Finished chain.\u001b[0m\n"
     ]
    },
    {
     "data": {
      "text/plain": [
       "{'input': 'whats the temperature right now in Jaipur?',\n",
       " 'chat_history': [HumanMessage(content='whats the temperature right now in Jaipur?'),\n",
       "  AIMessage(content='The temperature in Jaipur, India is currently 84°F.')],\n",
       " 'output': 'The temperature in Jaipur, India is currently 84°F.'}"
      ]
     },
     "execution_count": 6,
     "metadata": {},
     "output_type": "execute_result"
    }
   ],
   "source": [
    "from langchain.prompts import PromptTemplate \n",
    "from langchain.agents import initialize_agent                                   \n",
    "from langchain.memory import ConversationBufferMemory\n",
    "from langchain.agents import AgentType\n",
    "from langchain_google_genai import ChatGoogleGenerativeAI\n",
    "from langchain_community.tools.tavily_search import TavilySearchResults\n",
    "\n",
    "llm = ChatGoogleGenerativeAI(model=\"gemini-1.5-pro\")\n",
    "\n",
    "search = TavilySearchResults()\n",
    "tools = [search]\n",
    "\n",
    "memory = ConversationBufferMemory(memory_key=\"chat_history\", return_messages=True)\n",
    "\n",
    "# PREFIX = '''You are an AI data scientist. You have done years of research in studying all the AI algorthims. \n",
    "# You also love to write. On free time you write blog post for articulating what you have learned about different \n",
    "# AI algorithms. Do not forget to include information on the algorithm's benefits, disadvantages, \n",
    "# and applications. Additionally, the blog post should explain how the algorithm advances model reasoning by a whopping \n",
    "# 70% and how it is a plug in and play version, connecting seamlessly to other components.\n",
    "# '''\n",
    "\n",
    "# FORMAT_INSTRUCTIONS = \"\"\"To use a tool, please use the following format:\n",
    "# '''\n",
    "# Thought: Do I need to use a tool? Yes\n",
    "# Action: the action to take, should be one of [{tool_names}]\n",
    "# Action Input: the input to the action\n",
    "# Observation: the result of the action\n",
    "# '''\n",
    "\n",
    "# When you have gathered all the information regarding AI algorithm, just write it to the user in the form of a blog post.\n",
    "\n",
    "# '''\n",
    "# Thought: Do I need to use a tool? No\n",
    "# AI: [write a blog post]\n",
    "# '''\n",
    "# \"\"\"\n",
    "\n",
    "# SUFFIX = '''\n",
    "\n",
    "# Begin!\n",
    "\n",
    "# Previous conversation history:\n",
    "# {chat_history}\n",
    "\n",
    "# Instructions: {input}\n",
    "# {agent_scratchpad}\n",
    "# '''\n",
    "\n",
    "\n",
    "agent = initialize_agent(\n",
    "    agent=AgentType.CONVERSATIONAL_REACT_DESCRIPTION,\n",
    "    tools=tools,\n",
    "    llm=llm,\n",
    "    verbose=True,\n",
    "    memory=memory,\n",
    "    # return_intermediate_steps=True,\n",
    "    handle_parsing_errors=True,\n",
    "    # agent_kwargs={\n",
    "    #     'prefix': PREFIX, \n",
    "    #     'format_instructions': FORMAT_INSTRUCTIONS,\n",
    "    #     'suffix': SUFFIX\n",
    "    # }\n",
    ")\n",
    "\n",
    "# agent_executor = AgentExecutor(agent=agent, tools=tools)\n",
    "agent.invoke({\"input\": \"whats the temperature right now in Jaipur?\"})\n"
   ]
  },
  {
   "cell_type": "code",
   "execution_count": 26,
   "metadata": {},
   "outputs": [
    {
     "name": "stderr",
     "output_type": "stream",
     "text": [
      "c:\\Users\\Nilay Kumar\\Desktop\\langchain_app\\venv\\Lib\\site-packages\\langchain\\hub.py:86: DeprecationWarning: The `langchainhub sdk` is deprecated.\n",
      "Please use the `langsmith sdk` instead:\n",
      "  pip install langsmith\n",
      "Use the `pull_prompt` method.\n",
      "  res_dict = client.pull_repo(owner_repo_commit)\n"
     ]
    },
    {
     "ename": "ValueError",
     "evalue": "Prompt missing required variables: {'agent_scratchpad', 'tools'}",
     "output_type": "error",
     "traceback": [
      "\u001b[1;31m---------------------------------------------------------------------------\u001b[0m",
      "\u001b[1;31mValueError\u001b[0m                                Traceback (most recent call last)",
      "Cell \u001b[1;32mIn[26], line 16\u001b[0m\n\u001b[0;32m     13\u001b[0m tavily_tool \u001b[38;5;241m=\u001b[39m TavilySearchResults(max_results\u001b[38;5;241m=\u001b[39m\u001b[38;5;241m10\u001b[39m)\n\u001b[0;32m     15\u001b[0m \u001b[38;5;66;03m# Create the agent using your custom prompt template and Tavily tool\u001b[39;00m\n\u001b[1;32m---> 16\u001b[0m agent \u001b[38;5;241m=\u001b[39m \u001b[43mcreate_react_agent\u001b[49m\u001b[43m(\u001b[49m\u001b[43mllm\u001b[49m\u001b[43m,\u001b[49m\u001b[43m \u001b[49m\u001b[43mtools\u001b[49m\u001b[38;5;241;43m=\u001b[39;49m\u001b[43m[\u001b[49m\u001b[43mtavily_tool\u001b[49m\u001b[43m]\u001b[49m\u001b[43m,\u001b[49m\u001b[43m \u001b[49m\u001b[43mprompt\u001b[49m\u001b[38;5;241;43m=\u001b[39;49m\u001b[43mcustom_prompt_template\u001b[49m\u001b[43m)\u001b[49m\n\u001b[0;32m     18\u001b[0m \u001b[38;5;66;03m# Set up the agent executor\u001b[39;00m\n\u001b[0;32m     19\u001b[0m agent_executor \u001b[38;5;241m=\u001b[39m AgentExecutor(agent\u001b[38;5;241m=\u001b[39magent, tools\u001b[38;5;241m=\u001b[39m[tavily_tool], verbose\u001b[38;5;241m=\u001b[39m\u001b[38;5;28;01mTrue\u001b[39;00m)\n",
      "File \u001b[1;32mc:\\Users\\Nilay Kumar\\Desktop\\langchain_app\\venv\\Lib\\site-packages\\langchain\\agents\\react\\agent.py:117\u001b[0m, in \u001b[0;36mcreate_react_agent\u001b[1;34m(llm, tools, prompt, output_parser, tools_renderer, stop_sequence)\u001b[0m\n\u001b[0;32m    113\u001b[0m missing_vars \u001b[38;5;241m=\u001b[39m {\u001b[38;5;124m\"\u001b[39m\u001b[38;5;124mtools\u001b[39m\u001b[38;5;124m\"\u001b[39m, \u001b[38;5;124m\"\u001b[39m\u001b[38;5;124mtool_names\u001b[39m\u001b[38;5;124m\"\u001b[39m, \u001b[38;5;124m\"\u001b[39m\u001b[38;5;124magent_scratchpad\u001b[39m\u001b[38;5;124m\"\u001b[39m}\u001b[38;5;241m.\u001b[39mdifference(\n\u001b[0;32m    114\u001b[0m     prompt\u001b[38;5;241m.\u001b[39minput_variables \u001b[38;5;241m+\u001b[39m \u001b[38;5;28mlist\u001b[39m(prompt\u001b[38;5;241m.\u001b[39mpartial_variables)\n\u001b[0;32m    115\u001b[0m )\n\u001b[0;32m    116\u001b[0m \u001b[38;5;28;01mif\u001b[39;00m missing_vars:\n\u001b[1;32m--> 117\u001b[0m     \u001b[38;5;28;01mraise\u001b[39;00m \u001b[38;5;167;01mValueError\u001b[39;00m(\u001b[38;5;124mf\u001b[39m\u001b[38;5;124m\"\u001b[39m\u001b[38;5;124mPrompt missing required variables: \u001b[39m\u001b[38;5;132;01m{\u001b[39;00mmissing_vars\u001b[38;5;132;01m}\u001b[39;00m\u001b[38;5;124m\"\u001b[39m)\n\u001b[0;32m    119\u001b[0m prompt \u001b[38;5;241m=\u001b[39m prompt\u001b[38;5;241m.\u001b[39mpartial(\n\u001b[0;32m    120\u001b[0m     tools\u001b[38;5;241m=\u001b[39mtools_renderer(\u001b[38;5;28mlist\u001b[39m(tools)),\n\u001b[0;32m    121\u001b[0m     tool_names\u001b[38;5;241m=\u001b[39m\u001b[38;5;124m\"\u001b[39m\u001b[38;5;124m, \u001b[39m\u001b[38;5;124m\"\u001b[39m\u001b[38;5;241m.\u001b[39mjoin([t\u001b[38;5;241m.\u001b[39mname \u001b[38;5;28;01mfor\u001b[39;00m t \u001b[38;5;129;01min\u001b[39;00m tools]),\n\u001b[0;32m    122\u001b[0m )\n\u001b[0;32m    123\u001b[0m \u001b[38;5;28;01mif\u001b[39;00m stop_sequence:\n",
      "\u001b[1;31mValueError\u001b[0m: Prompt missing required variables: {'agent_scratchpad', 'tools'}"
     ]
    }
   ],
   "source": [
    "from langchain.agents import AgentExecutor, create_react_agent\n",
    "from langchain_google_genai import GoogleGenerativeAI\n",
    "from langchain_community.tools.tavily_search import TavilySearchResults\n",
    "from langchain_core.prompts import PromptTemplate\n",
    "\n",
    "# Define your custom prompt template with required variables\n",
    "prompt = hub.pull(\"hwchase17/structured-chat-agent\")\n",
    "\n",
    "# Initialize the Google Gemini model\n",
    "llm = GoogleGenerativeAI(model=\"gemini-1.5-pro\", temperature=0)\n",
    "\n",
    "# Set up Tavily as a search tool\n",
    "tavily_tool = TavilySearchResults(max_results=10)\n",
    "\n",
    "# Create the agent using your custom prompt template and Tavily tool\n",
    "agent = create_react_agent(llm, tools=[tavily_tool], prompt=custom_prompt_template)\n",
    "\n",
    "# Set up the agent executor\n",
    "agent_executor = AgentExecutor(agent=agent, tools=[tavily_tool], verbose=True)\n",
    "\n",
    "# Invoke the agent with a query\n",
    "response = agent_executor.invoke({\"input\": \"What is Python?\"})\n",
    "print(response)"
   ]
  }
 ],
 "metadata": {
  "kernelspec": {
   "display_name": "venv",
   "language": "python",
   "name": "python3"
  },
  "language_info": {
   "codemirror_mode": {
    "name": "ipython",
    "version": 3
   },
   "file_extension": ".py",
   "mimetype": "text/x-python",
   "name": "python",
   "nbconvert_exporter": "python",
   "pygments_lexer": "ipython3",
   "version": "3.12.4"
  }
 },
 "nbformat": 4,
 "nbformat_minor": 2
}
