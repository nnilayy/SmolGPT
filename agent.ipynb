{
 "cells": [
  {
   "cell_type": "code",
   "execution_count": null,
   "metadata": {},
   "outputs": [],
   "source": [
    "from langchain import hub\n",
    "from dotenv import load_dotenv\n",
    "from langchain.agents import AgentExecutor\n",
    "from langchain.agents import create_tool_calling_agent\n",
    "from langchain_google_genai import ChatGoogleGenerativeAI\n",
    "from langchain_community.tools.tavily_search import TavilySearchResults\n",
    "\n",
    "load_dotenv()\n",
    "\n",
    "search = TavilySearchResults()\n",
    "# query = \"what is the weather in SF\"\n",
    "# search.invoke(query)\n",
    "tools = [search]\n",
    "\n",
    "prompt = hub.pull(\"hwchase17/openai-functions-agent\")\n",
    "model = ChatGoogleGenerativeAI(model=\"gemini-1.5-pro\")\n",
    "agent = create_tool_calling_agent(model, tools, prompt)\n",
    "agent_executor = AgentExecutor(agent=agent, tools=tools, verbose=True)\n",
    "agent_executor.invoke({\"input\": \"whats the weather in sf?\"})"
   ]
  },
  {
   "cell_type": "code",
   "execution_count": null,
   "metadata": {},
   "outputs": [],
   "source": [
    "from langchain.prompts import PromptTemplate \n",
    "from langchain.agents import initialize_agent                                   \n",
    "from langchain.memory import ConversationBufferMemory\n",
    "from langchain.agents import AgentType\n",
    "from langchain_google_genai import ChatGoogleGenerativeAI\n",
    "from langchain_community.tools.tavily_search import TavilySearchResults\n",
    "\n",
    "llm = ChatGoogleGenerativeAI(model=\"gemini-1.5-pro\")\n",
    "\n",
    "search = TavilySearchResults()\n",
    "tools = [search]\n",
    "\n",
    "memory = ConversationBufferMemory(memory_key=\"chat_history\", return_messages=True)\n",
    "\n",
    "# PREFIX = '''\n",
    "# Bing Bong\n",
    "# '''\n",
    "\n",
    "# FORMAT_INSTRUCTIONS = \"\"\"To use a tool, please use the following format:\n",
    "# '''\n",
    "# Thought: Do I need to use a tool? Yes\n",
    "# Action: the action to take, should be one of [{tool_names}]\n",
    "# Action Input: the input to the action\n",
    "# Observation: the result of the action\n",
    "# '''\n",
    "\n",
    "# When you have gathered all the information regarding AI algorithm, just write it to the user in the form of a blog post.\n",
    "\n",
    "# '''\n",
    "# Thought: Do I need to use a tool? No\n",
    "# AI: [write a blog post]\n",
    "# '''\n",
    "# \"\"\"\n",
    "\n",
    "# SUFFIX = '''\n",
    "\n",
    "# Begin!\n",
    "\n",
    "# Previous conversation history:\n",
    "# {chat_history}\n",
    "\n",
    "# Instructions: {input}\n",
    "# {agent_scratchpad}\n",
    "# '''\n",
    "\n",
    "\n",
    "agent = initialize_agent(\n",
    "    agent=AgentType.CONVERSATIONAL_REACT_DESCRIPTION,\n",
    "    tools=tools,\n",
    "    llm=llm,\n",
    "    verbose=False,\n",
    "    memory=memory,\n",
    "    handle_parsing_errors=True,\n",
    "    # return_intermediate_steps=True,\n",
    "    # agent_kwargs={\n",
    "        # 'prefix': PREFIX, \n",
    "    #     'format_instructions': FORMAT_INSTRUCTIONS,\n",
    "    #     'suffix': SUFFIX\n",
    "    # }\n",
    ")\n",
    "\n",
    "while True:\n",
    "    query = input(\"Query: \")\n",
    "    if query == \"exit\":\n",
    "        break\n",
    "    print(\"User: \", query)\n",
    "    response = agent.invoke({\"input\": query})\n",
    "    print(\"AI: \", response.get(\"output\"))"
   ]
  },
  {
   "cell_type": "code",
   "execution_count": null,
   "metadata": {},
   "outputs": [],
   "source": [
    "import inspect\n",
    "print(inspect.getsource(initialize_agent))"
   ]
  },
  {
   "cell_type": "code",
   "execution_count": null,
   "metadata": {},
   "outputs": [],
   "source": [
    "print(agent.agent.llm_chain.prompt.template)"
   ]
  },
  {
   "cell_type": "code",
   "execution_count": null,
   "metadata": {},
   "outputs": [],
   "source": [
    "memory"
   ]
  },
  {
   "cell_type": "code",
   "execution_count": null,
   "metadata": {},
   "outputs": [],
   "source": []
  },
  {
   "cell_type": "code",
   "execution_count": null,
   "metadata": {},
   "outputs": [],
   "source": [
    "from langchain.agents import AgentExecutor, create_react_agent\n",
    "from langchain_google_genai import GoogleGenerativeAI\n",
    "from langchain_community.tools.tavily_search import TavilySearchResults\n",
    "from langchain_core.prompts import PromptTemplate\n",
    "\n",
    "# Define your custom prompt template with required variables\n",
    "prompt = hub.pull(\"hwchase17/structured-chat-agent\")\n",
    "\n",
    "# Initialize the Google Gemini model\n",
    "llm = GoogleGenerativeAI(model=\"gemini-1.5-pro\", temperature=0)\n",
    "\n",
    "# Set up Tavily as a search tool\n",
    "tavily_tool = TavilySearchResults(max_results=10)\n",
    "\n",
    "# Create the agent using your custom prompt template and Tavily tool\n",
    "agent = create_react_agent(llm, tools=[tavily_tool], prompt=custom_prompt_template)\n",
    "\n",
    "# Set up the agent executor\n",
    "agent_executor = AgentExecutor(agent=agent, tools=[tavily_tool], verbose=True)\n",
    "\n",
    "# Invoke the agent with a query\n",
    "response = agent_executor.invoke({\"input\": \"What is Python?\"})\n",
    "print(response)"
   ]
  }
 ],
 "metadata": {
  "kernelspec": {
   "display_name": "venv",
   "language": "python",
   "name": "python3"
  },
  "language_info": {
   "codemirror_mode": {
    "name": "ipython",
    "version": 3
   },
   "file_extension": ".py",
   "mimetype": "text/x-python",
   "name": "python",
   "nbconvert_exporter": "python",
   "pygments_lexer": "ipython3",
   "version": "3.12.4"
  }
 },
 "nbformat": 4,
 "nbformat_minor": 2
}
